{
 "cells": [
  {
   "cell_type": "code",
   "execution_count": 31,
   "metadata": {},
   "outputs": [],
   "source": [
    "import pandas as pd\n",
    "import ipywidgets as widgets\n",
    "from pandas import ExcelWriter\n",
    "import os\n",
    "import ipywidgets as widgets\n",
    "from ipywidgets import interact, interact_manual,interactive\n",
    "from IPython.display import display\n",
    "import dtale\n",
    "pd.set_option('display.max_rows', None)\n",
    "pd.set_option('display.max_columns', None)\n",
    "import ipyvuetify as v\n",
    "from traitlets import (Unicode, List)\n",
    "import qgrid\n",
    "import plotly.graph_objects as go\n",
    "import numpy as np\n",
    "from ipywidgets import FileUpload\n"
   ]
  },
  {
   "cell_type": "code",
   "execution_count": 32,
   "metadata": {},
   "outputs": [],
   "source": [
    "df=pd.read_excel(\"timesheet_sample file.xls\",sheet_name=\"All projects\",skiprows=7)\n",
    "df=df.fillna(0)\n",
    "df=df.iloc[0:10160,:]\n",
    "projects=list(df['Project Name'].unique())\n",
    "users=list(df['User'].unique())\n",
    "billing=list(df['Billing Status'].unique())\n",
    "projects.append(\"All\")\n",
    "users.append(\"All\")\n",
    "billing.append(\"All\")\n",
    "df['Date']=pd.to_datetime(df['Date'],format='%d-%m-%Y')\n",
    "df['Month'] = df['Date'].map(lambda x:  x.month_name())\n",
    "df['Hours(For Calculation)'] = df['Hours(For Calculation)'].map(lambda x:  float(x))\n",
    "df=df.fillna(0)"
   ]
  },
  {
   "cell_type": "code",
   "execution_count": 33,
   "metadata": {},
   "outputs": [],
   "source": [
    "#Final Project\n",
    "# fig = go.FigureWidget( layout=go.Layout() )\n",
    "\n",
    "# def show_latest_cases(n):\n",
    "#     n = str(n)\n",
    "#     return df[df['Project Name']==n].sort_values('Hours(For Calculation)', ascending= False)\n",
    "# #df[df['Project Name']==n]\n",
    "\n",
    "# pj = widgets.Dropdown(\n",
    "#     options=projects,    \n",
    "#     description='Project:',\n",
    "# )\n",
    "# #interact(show_latest_cases,x='Basic Concepts');\n",
    "\n",
    "# interact(show_latest_cases, n=pj)\n",
    "# interact(show_latest_cases, n=us)\n",
    "# ipywLayout = widgets.Layout(border='solid 2px green')\n",
    "# ipywLayout.display='none' # uncomment this, run cell again - then the graph/figure disappears\n",
    "# widgets.VBox([fig], layout=ipywLayout)"
   ]
  },
  {
   "cell_type": "code",
   "execution_count": 34,
   "metadata": {},
   "outputs": [],
   "source": [
    "# Final User\n",
    "# fig = go.FigureWidget( layout=go.Layout() )\n",
    "\n",
    "# def show_latest_cases(n):\n",
    "#     n = str(n)\n",
    "#     return df[df['User']==n].sort_values('Hours(For Calculation)', ascending= False)\n",
    "# #df[df['Project Name']==n]\n",
    "\n",
    "# us = widgets.Dropdown(\n",
    "#     options=users,\n",
    "#     value='All',\n",
    "#     description='User:',\n",
    "# )\n",
    "\n",
    "\n",
    "# interact(show_latest_cases, n=us)\n",
    "\n",
    "\n",
    "# ipywLayout = widgets.Layout(border='solid 2px green')\n",
    "# ipywLayout.display='none' # uncomment this, run cell again - then the graph/figure disappears\n",
    "# widgets.VBox([fig], layout=ipywLayout)"
   ]
  },
  {
   "cell_type": "code",
   "execution_count": 35,
   "metadata": {},
   "outputs": [],
   "source": [
    "# #Final Combined\n",
    "# fig = go.FigureWidget( layout=go.Layout() )\n",
    "\n",
    "# def show_latest_cases(n,m):\n",
    "#     n = str(n)\n",
    "#     m = str(m)\n",
    "#     return df[(df['Project Name']==n)&(df['User']==m)].sort_values('Hours(For Calculation)', ascending= False)\n",
    "# #df[df['Project Name']==n]\n",
    "\n",
    "# pj = widgets.Dropdown(\n",
    "#     options=projects,    \n",
    "#     description='Project:',\n",
    "# )\n",
    "\n",
    "# us = widgets.Dropdown(\n",
    "#     options=users,\n",
    "#     value='All',\n",
    "#     description='User:',\n",
    "# )\n",
    "# #interact(show_latest_cases,x='Basic Concepts');\n",
    "\n",
    "# interact(show_latest_cases, n=pj,m=us);\n",
    "\n",
    "# ipywLayout.display='none' # uncomment this, run cell again - then the graph/figure disappears\n",
    "# widgets.VBox([fig], layout=ipywLayout)"
   ]
  },
  {
   "cell_type": "code",
   "execution_count": 66,
   "metadata": {
    "scrolled": false
   },
   "outputs": [],
   "source": [
    "#Final Combined\n",
    "fig = go.FigureWidget( layout=go.Layout() )\n",
    "fig.update_layout(\n",
    "    width=500,\n",
    "    height=500\n",
    ")\n",
    "\n",
    "def show_latest_cases(n,m):\n",
    "    n = str(n)\n",
    "    m = str(m)\n",
    "    \n",
    "    \n",
    "    f1=pd.pivot_table(df,values='Hours(For Calculation)',index=['User'],columns=['Month','Billing Status'],aggfunc=np.sum,fill_value=0)\n",
    "    f2=pd.pivot_table(df,values='Hours(For Calculation)',index=['User'],columns=['Month'],aggfunc=np.sum,fill_value=0)\n",
    "    flattened1 = pd.DataFrame(f1.to_records())\n",
    "    flattened2 = pd.DataFrame(f2.to_records())\n",
    "    flat1=flattened1.merge(flattened2,on='User',how='left')\n",
    "    flat1=flat1.rename(columns={'(\\'April\\', \\'Billable\\')':'April-Billable','(\\'April\\', \\'Non Billable\\')':'April- Non Billable','(\\'May\\', \\'Billable\\')':'May Billable','(\\'May\\', \\'Non Billable\\')':'May- Non Billable','April':'April Total','May':'May Total'})\n",
    "\n",
    "    f3=pd.pivot_table(df[(df['User']==m)],values='Hours(For Calculation)',index=['User'],columns=['Month','Billing Status'],aggfunc=np.sum,fill_value=0)\n",
    "    f4=pd.pivot_table(df,values='Hours(For Calculation)',index=['User'],columns=['Month'],aggfunc=np.sum,fill_value=0)\n",
    "    flattened3 = pd.DataFrame(f3.to_records())\n",
    "    flattened4 = pd.DataFrame(f4.to_records())\n",
    "    flat2=flattened3.merge(flattened4,on='User',how='left')\n",
    "    flat2=flat2.rename(columns={'(\\'April\\', \\'Billable\\')':'April-Billable','(\\'April\\', \\'Non Billable\\')':'April- Non Billable','(\\'May\\', \\'Billable\\')':'May Billable','(\\'May\\', \\'Non Billable\\')':'May- Non Billable','April':'April Total','May':'May Total'})\n",
    "\n",
    "\n",
    "    f5=pd.pivot_table(df[(df['Project Name']==n)],values='Hours(For Calculation)',index=['User'],columns=['Month','Billing Status'],aggfunc=np.sum,fill_value=0)\n",
    "    f6=pd.pivot_table(df,values='Hours(For Calculation)',index=['User'],columns=['Month'],aggfunc=np.sum,fill_value=0)\n",
    "    flattened5 = pd.DataFrame(f5.to_records())\n",
    "    flattened6 = pd.DataFrame(f6.to_records())\n",
    "    flat3=flattened5.merge(flattened6,on='User',how='left')\n",
    "    flat3=flat3.rename(columns={'(\\'April\\', \\'Billable\\')':'April-Billable','(\\'April\\', \\'Non Billable\\')':'April- Non Billable','(\\'May\\', \\'Billable\\')':'May Billable','(\\'May\\', \\'Non Billable\\')':'May- Non Billable','April':'April Total','May':'May Total'})\n",
    "\n",
    "\n",
    "    f7=pd.pivot_table(df[(df['Project Name']==n)&(df['User']==m)],values='Hours(For Calculation)',index=['User'],columns=['Month','Billing Status'],aggfunc=np.sum,fill_value=0)\n",
    "    f8=pd.pivot_table(df,values='Hours(For Calculation)',index=['User'],columns=['Month'],aggfunc=np.sum,fill_value=0)\n",
    "    flattened7 = pd.DataFrame(f7.to_records())\n",
    "    flattened8 = pd.DataFrame(f8.to_records())\n",
    "    flat4=flattened7.merge(flattened8,on='User',how='left')\n",
    "    flat4=flat4.rename(columns={'(\\'April\\', \\'Billable\\')':'April-Billable','(\\'April\\', \\'Non Billable\\')':'April- Non Billable','(\\'May\\', \\'Billable\\')':'May Billable','(\\'May\\', \\'Non Billable\\')':'May- Non Billable','April':'April Total','May':'May Total'})\n",
    "\n",
    "    #return #df[(df['Project Name']==n)&(df['User']==m)].sort_values('Hours(For Calculation)', ascending= False)\n",
    "    \n",
    "    if (n=='All'):\n",
    "        if (m=='All'):\n",
    "            return flat1#(pd.pivot_table(df,values='Hours(For Calculation)',index=['User','Billing Status'],columns='Month',aggfunc=np.sum,fill_value=0))\n",
    "        else:\n",
    "            return flat2#pd.pivot_table(df[(df['User']==m)],values='Hours(For Calculation)',index=['User','Billing Status'],columns='Month',aggfunc=np.sum,fill_value=0)\n",
    "    elif (n!='All'):\n",
    "            if (m=='All'):\n",
    "                return flat3#pd.pivot_table(df[(df['Project Name']==n)],values='Hours(For Calculation)',index=['User','Billing Status'],columns='Month',aggfunc=np.sum,fill_value=0)\n",
    "    return flat4#pd.pivot_table(df[(df['Project Name']==n)&(df['User']==m)],values='Hours(For Calculation)',index=['User','Billing Status'],columns='Month',aggfunc=np.sum,fill_value=0)\n",
    "\n",
    "\n",
    "\n",
    "#ipywLayout = widgets.Layout(border='solid 2px green')\n",
    "#ipywLayout.display='none' # uncomment this, run cell again - then the graph/figure disappears\n",
    "#widgets.VBox([fig], layout=ipywLayout)"
   ]
  },
  {
   "cell_type": "code",
   "execution_count": 68,
   "metadata": {},
   "outputs": [
    {
     "data": {
      "application/vnd.jupyter.widget-view+json": {
       "model_id": "e1320d7df4804546866c5c334cd46f4f",
       "version_major": 2,
       "version_minor": 0
      },
      "text/plain": [
       "interactive(children=(Dropdown(description='Project:', index=71, options=('Sleep Mantra - Amazon Ads', 'Monsoo…"
      ]
     },
     "metadata": {},
     "output_type": "display_data"
    }
   ],
   "source": [
    "pj = widgets.Dropdown(\n",
    "    options=projects,   \n",
    "    value='All',\n",
    "    description='Project:',\n",
    ")\n",
    "\n",
    "us = widgets.Dropdown(\n",
    "    options=users,\n",
    "    value='All',\n",
    "    description='User:',\n",
    ")\n",
    "#interact(show_latest_cases,x='Basic Concepts');\n",
    "\n",
    "interact(show_latest_cases, n=pj,m=us);"
   ]
  },
  {
   "cell_type": "code",
   "execution_count": null,
   "metadata": {},
   "outputs": [],
   "source": []
  }
 ],
 "metadata": {
  "kernelspec": {
   "display_name": "Python 3",
   "language": "python",
   "name": "python3"
  },
  "language_info": {
   "codemirror_mode": {
    "name": "ipython",
    "version": 3
   },
   "file_extension": ".py",
   "mimetype": "text/x-python",
   "name": "python",
   "nbconvert_exporter": "python",
   "pygments_lexer": "ipython3",
   "version": "3.7.6"
  }
 },
 "nbformat": 4,
 "nbformat_minor": 4
}
